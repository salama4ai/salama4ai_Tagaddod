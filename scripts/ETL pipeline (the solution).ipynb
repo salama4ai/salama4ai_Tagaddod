{
 "cells": [
  {
   "cell_type": "code",
   "execution_count": 1,
   "id": "a0fae769-634c-461f-8562-ec44ae1988e2",
   "metadata": {},
   "outputs": [],
   "source": [
    "import pandas as pd\n",
    "import numpy as np"
   ]
  },
  {
   "cell_type": "code",
   "execution_count": 2,
   "id": "c7df3a92-d9ac-48b5-9fb7-39022936a976",
   "metadata": {},
   "outputs": [],
   "source": [
    "df1 = pd.read_json(\"./resources/Tasks/tagaddod-d8ffe--MsZkGFSCtYxntenMuVF-export.json\", orient=\"index\", dtype={\"snapshot_datetime\": 'datetime64[ns]'})\n",
    "df2 = pd.read_json(\"./resources/Tasks/tagaddod-d8ffe--MszT9RZtTjcM5PwTCBH-export.json\", orient=\"index\", dtype={\"snapshot_datetime\": 'datetime64[ns]'})\n",
    "df3 = pd.read_json(\"./resources/Tasks/tagaddod-d8ffe--MwWeqpG3yuQD7G2wcp8-export.json\", orient=\"index\", dtype={\"snapshot_datetime\": 'datetime64[ns]'})\n",
    "df4 = pd.read_json(\"./resources/Tasks/tagaddod-d8ffe--N4SUsENXI1OF1qf8VxT-export.json\", orient=\"index\", dtype={\"snapshot_datetime\": 'datetime64[ns]'})\n",
    "dfi = [df1, df2, df3, df4]"
   ]
  },
  {
   "cell_type": "code",
   "execution_count": 3,
   "id": "c4415daa-b6b2-4049-899f-884c11beae80",
   "metadata": {},
   "outputs": [],
   "source": [
    "# this step is to fill collector_id null values with the collector_id of this collector\n",
    "for d in dfi:\n",
    "    d.fillna(value=(d[d[\"collector_id\"].notna()][\"collector_id\"][0]), inplace=True)\n",
    "    # after filling collector_id null, we can convert float64 into int64\n",
    "    d[\"collector_id\"] = d[\"collector_id\"].astype(\"int64\")"
   ]
  },
  {
   "cell_type": "code",
   "execution_count": 4,
   "id": "fa03fc1b-53bc-45a9-b903-38d51b369e52",
   "metadata": {},
   "outputs": [],
   "source": [
    "# we can neglict this cell as it only influence unique row\n",
    "for i in df1[df1[\"meta-data\"]!=df1[\"collector_id\"]].index:\n",
    "    for k, v in df1.loc[i][\"meta-data\"].items():\n",
    "        df1.at[i, k]=v  \n",
    "df1.at['-Mt73Jj0QRoPye_E3pGY', \"snapshot_datetime\"] = pd.Timestamp(df1.loc['-Mt73Jj0QRoPye_E3pGY', \"snapshot_datetime\"])        "
   ]
  },
  {
   "cell_type": "code",
   "execution_count": 5,
   "id": "916b5d65-3269-4ed8-ad65-f2a974a66363",
   "metadata": {},
   "outputs": [],
   "source": [
    "df1.drop(\"meta-data\", axis=1, inplace=True)      # droping meta-data column as it havenot additional information"
   ]
  },
  {
   "cell_type": "code",
   "execution_count": 6,
   "id": "f73c5f6d-c7fb-4ea4-827f-3350ae89538b",
   "metadata": {},
   "outputs": [],
   "source": [
    "# concatenate the 4 files\n",
    "\n",
    "df = pd.concat([df1, df2, df3, df4], axis=0, ignore_index=False)\n",
    "df.index.name=\"idx\"\n",
    "# df.insert(0, 'collector_id', df.pop('collector_id'))        # optional step to make the collector_id column in the first"
   ]
  },
  {
   "cell_type": "code",
   "execution_count": 7,
   "id": "d4a2ddd4-e7aa-4141-b7b1-db5f7727eb22",
   "metadata": {},
   "outputs": [],
   "source": [
    "df.drop(index=\"meta-data\", inplace=True)"
   ]
  },
  {
   "cell_type": "code",
   "execution_count": 8,
   "id": "89dff542-0daa-421c-9e98-0082c4521ef1",
   "metadata": {},
   "outputs": [],
   "source": [
    "df[\"snapshot_datetime_unix\"] = [int(val.timestamp()) for val in df.snapshot_datetime]\n",
    "# df.snapshot_datetime_unix.dtype"
   ]
  },
  {
   "cell_type": "code",
   "execution_count": 9,
   "id": "27e3dd9a-466d-46a8-95d0-c92662a06cea",
   "metadata": {},
   "outputs": [],
   "source": [
    "df.to_csv(\"./ETL_pipe.csv\", header=True, index=True)"
   ]
  },
  {
   "cell_type": "markdown",
   "id": "c203e565-67a7-460b-a4da-157d481b7d15",
   "metadata": {},
   "source": [
    "### This script written at aug-2022 by Ahmad salama \n",
    "- salama4ai@gmail.com\n",
    "- www.linkedin.com/in/salama4ai"
   ]
  },
  {
   "cell_type": "code",
   "execution_count": 19,
   "id": "77de19a4-316f-4db0-83a6-e70e1506735c",
   "metadata": {},
   "outputs": [
    {
     "ename": "TypeError",
     "evalue": "'(-MseZ2fAZ1SjLMaYOXy2     True\n-MseZ3tJG5FeQy7OEB6H     True\n-MseZ57uwVY_hYJ_G8nF     True\n-MseZ6JS8eUMGMr-6cF0     True\n-MseZ7XzNXS16vXvrVYO     True\n                        ...  \n-Mtc0iVkiN2I35wNbzL9    False\n-Mtc0k6hQNhX_wTsUoS8    False\n-Mtc0kw8uNekqxExUPw7    False\n-Mt73Jj0QRoPye_E3pGY    False\nmeta-data               False\nName: device_id, Length: 2136, dtype: bool, 'device_id')' is an invalid key",
     "output_type": "error",
     "traceback": [
      "\u001b[1;31m---------------------------------------------------------------------------\u001b[0m",
      "\u001b[1;31mTypeError\u001b[0m                                 Traceback (most recent call last)",
      "\u001b[1;32m~\\AppData\\Local\\Temp/ipykernel_1852/3553496693.py\u001b[0m in \u001b[0;36m<module>\u001b[1;34m\u001b[0m\n\u001b[1;32m----> 1\u001b[1;33m \u001b[0mdf1\u001b[0m\u001b[1;33m[\u001b[0m\u001b[0mdf1\u001b[0m\u001b[1;33m[\u001b[0m\u001b[1;34m\"device_id\"\u001b[0m\u001b[1;33m]\u001b[0m\u001b[1;33m==\u001b[0m\u001b[1;34m\"fe175d9955fced88\"\u001b[0m\u001b[1;33m,\u001b[0m \u001b[1;34m\"device_id\"\u001b[0m\u001b[1;33m]\u001b[0m\u001b[1;33m\u001b[0m\u001b[1;33m\u001b[0m\u001b[0m\n\u001b[0m",
      "\u001b[1;32m~\\anaconda3\\lib\\site-packages\\pandas\\core\\frame.py\u001b[0m in \u001b[0;36m__getitem__\u001b[1;34m(self, key)\u001b[0m\n\u001b[0;32m   3456\u001b[0m             \u001b[1;32mif\u001b[0m \u001b[0mself\u001b[0m\u001b[1;33m.\u001b[0m\u001b[0mcolumns\u001b[0m\u001b[1;33m.\u001b[0m\u001b[0mnlevels\u001b[0m \u001b[1;33m>\u001b[0m \u001b[1;36m1\u001b[0m\u001b[1;33m:\u001b[0m\u001b[1;33m\u001b[0m\u001b[1;33m\u001b[0m\u001b[0m\n\u001b[0;32m   3457\u001b[0m                 \u001b[1;32mreturn\u001b[0m \u001b[0mself\u001b[0m\u001b[1;33m.\u001b[0m\u001b[0m_getitem_multilevel\u001b[0m\u001b[1;33m(\u001b[0m\u001b[0mkey\u001b[0m\u001b[1;33m)\u001b[0m\u001b[1;33m\u001b[0m\u001b[1;33m\u001b[0m\u001b[0m\n\u001b[1;32m-> 3458\u001b[1;33m             \u001b[0mindexer\u001b[0m \u001b[1;33m=\u001b[0m \u001b[0mself\u001b[0m\u001b[1;33m.\u001b[0m\u001b[0mcolumns\u001b[0m\u001b[1;33m.\u001b[0m\u001b[0mget_loc\u001b[0m\u001b[1;33m(\u001b[0m\u001b[0mkey\u001b[0m\u001b[1;33m)\u001b[0m\u001b[1;33m\u001b[0m\u001b[1;33m\u001b[0m\u001b[0m\n\u001b[0m\u001b[0;32m   3459\u001b[0m             \u001b[1;32mif\u001b[0m \u001b[0mis_integer\u001b[0m\u001b[1;33m(\u001b[0m\u001b[0mindexer\u001b[0m\u001b[1;33m)\u001b[0m\u001b[1;33m:\u001b[0m\u001b[1;33m\u001b[0m\u001b[1;33m\u001b[0m\u001b[0m\n\u001b[0;32m   3460\u001b[0m                 \u001b[0mindexer\u001b[0m \u001b[1;33m=\u001b[0m \u001b[1;33m[\u001b[0m\u001b[0mindexer\u001b[0m\u001b[1;33m]\u001b[0m\u001b[1;33m\u001b[0m\u001b[1;33m\u001b[0m\u001b[0m\n",
      "\u001b[1;32m~\\anaconda3\\lib\\site-packages\\pandas\\core\\indexes\\base.py\u001b[0m in \u001b[0;36mget_loc\u001b[1;34m(self, key, method, tolerance)\u001b[0m\n\u001b[0;32m   3359\u001b[0m             \u001b[0mcasted_key\u001b[0m \u001b[1;33m=\u001b[0m \u001b[0mself\u001b[0m\u001b[1;33m.\u001b[0m\u001b[0m_maybe_cast_indexer\u001b[0m\u001b[1;33m(\u001b[0m\u001b[0mkey\u001b[0m\u001b[1;33m)\u001b[0m\u001b[1;33m\u001b[0m\u001b[1;33m\u001b[0m\u001b[0m\n\u001b[0;32m   3360\u001b[0m             \u001b[1;32mtry\u001b[0m\u001b[1;33m:\u001b[0m\u001b[1;33m\u001b[0m\u001b[1;33m\u001b[0m\u001b[0m\n\u001b[1;32m-> 3361\u001b[1;33m                 \u001b[1;32mreturn\u001b[0m \u001b[0mself\u001b[0m\u001b[1;33m.\u001b[0m\u001b[0m_engine\u001b[0m\u001b[1;33m.\u001b[0m\u001b[0mget_loc\u001b[0m\u001b[1;33m(\u001b[0m\u001b[0mcasted_key\u001b[0m\u001b[1;33m)\u001b[0m\u001b[1;33m\u001b[0m\u001b[1;33m\u001b[0m\u001b[0m\n\u001b[0m\u001b[0;32m   3362\u001b[0m             \u001b[1;32mexcept\u001b[0m \u001b[0mKeyError\u001b[0m \u001b[1;32mas\u001b[0m \u001b[0merr\u001b[0m\u001b[1;33m:\u001b[0m\u001b[1;33m\u001b[0m\u001b[1;33m\u001b[0m\u001b[0m\n\u001b[0;32m   3363\u001b[0m                 \u001b[1;32mraise\u001b[0m \u001b[0mKeyError\u001b[0m\u001b[1;33m(\u001b[0m\u001b[0mkey\u001b[0m\u001b[1;33m)\u001b[0m \u001b[1;32mfrom\u001b[0m \u001b[0merr\u001b[0m\u001b[1;33m\u001b[0m\u001b[1;33m\u001b[0m\u001b[0m\n",
      "\u001b[1;32m~\\anaconda3\\lib\\site-packages\\pandas\\_libs\\index.pyx\u001b[0m in \u001b[0;36mpandas._libs.index.IndexEngine.get_loc\u001b[1;34m()\u001b[0m\n",
      "\u001b[1;32m~\\anaconda3\\lib\\site-packages\\pandas\\_libs\\index.pyx\u001b[0m in \u001b[0;36mpandas._libs.index.IndexEngine.get_loc\u001b[1;34m()\u001b[0m\n",
      "\u001b[1;31mTypeError\u001b[0m: '(-MseZ2fAZ1SjLMaYOXy2     True\n-MseZ3tJG5FeQy7OEB6H     True\n-MseZ57uwVY_hYJ_G8nF     True\n-MseZ6JS8eUMGMr-6cF0     True\n-MseZ7XzNXS16vXvrVYO     True\n                        ...  \n-Mtc0iVkiN2I35wNbzL9    False\n-Mtc0k6hQNhX_wTsUoS8    False\n-Mtc0kw8uNekqxExUPw7    False\n-Mt73Jj0QRoPye_E3pGY    False\nmeta-data               False\nName: device_id, Length: 2136, dtype: bool, 'device_id')' is an invalid key"
     ]
    }
   ],
   "source": [
    "df1[df1[\"device_id\"]==\"fe175d9955fced88\", \"device_id\"]"
   ]
  },
  {
   "cell_type": "code",
   "execution_count": 29,
   "id": "e28bb61c-ffb9-4d93-ad1a-5b481b5b8313",
   "metadata": {},
   "outputs": [
    {
     "data": {
      "text/html": [
       "<div>\n",
       "<style scoped>\n",
       "    .dataframe tbody tr th:only-of-type {\n",
       "        vertical-align: middle;\n",
       "    }\n",
       "\n",
       "    .dataframe tbody tr th {\n",
       "        vertical-align: top;\n",
       "    }\n",
       "\n",
       "    .dataframe thead th {\n",
       "        text-align: right;\n",
       "    }\n",
       "</style>\n",
       "<table border=\"1\" class=\"dataframe\">\n",
       "  <thead>\n",
       "    <tr style=\"text-align: right;\">\n",
       "      <th></th>\n",
       "      <th>device_id</th>\n",
       "      <th>latitude</th>\n",
       "      <th>longitude</th>\n",
       "      <th>snapshot_datetime</th>\n",
       "      <th>meta-data</th>\n",
       "      <th>collector_id</th>\n",
       "      <th>destination_request_id</th>\n",
       "    </tr>\n",
       "  </thead>\n",
       "  <tbody>\n",
       "  </tbody>\n",
       "</table>\n",
       "</div>"
      ],
      "text/plain": [
       "Empty DataFrame\n",
       "Columns: [device_id, latitude, longitude, snapshot_datetime, meta-data, collector_id, destination_request_id]\n",
       "Index: []"
      ]
     },
     "execution_count": 29,
     "metadata": {},
     "output_type": "execute_result"
    }
   ],
   "source": [
    "df1.loc[(df1[\"device_id\"]==\"fe175d9955fced88\") & (df1[\"latitude\"]==30.042313)]"
   ]
  },
  {
   "cell_type": "code",
   "execution_count": null,
   "id": "d2e5778d-a272-4dc0-8c89-e9ed0fcd8439",
   "metadata": {},
   "outputs": [],
   "source": []
  }
 ],
 "metadata": {
  "kernelspec": {
   "display_name": "Python 3 (ipykernel)",
   "language": "python",
   "name": "python3"
  },
  "language_info": {
   "codemirror_mode": {
    "name": "ipython",
    "version": 3
   },
   "file_extension": ".py",
   "mimetype": "text/x-python",
   "name": "python",
   "nbconvert_exporter": "python",
   "pygments_lexer": "ipython3",
   "version": "3.9.7"
  }
 },
 "nbformat": 4,
 "nbformat_minor": 5
}
