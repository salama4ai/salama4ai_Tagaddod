{
 "cells": [
  {
   "cell_type": "code",
   "execution_count": 2,
   "id": "a0fae769-634c-461f-8562-ec44ae1988e2",
   "metadata": {},
   "outputs": [],
   "source": [
    "import pandas as pd\n",
    "import numpy as np"
   ]
  },
  {
   "cell_type": "code",
   "execution_count": 67,
   "id": "c7df3a92-d9ac-48b5-9fb7-39022936a976",
   "metadata": {},
   "outputs": [],
   "source": [
    "df1 = pd.read_json(\"./resources/Tasks/tagaddod-d8ffe--MsZkGFSCtYxntenMuVF-export.json\", orient=\"index\", dtype={\"snapshot_datetime\": 'datetime64[ns]'})\n",
    "df2 = pd.read_json(\"./resources/Tasks/tagaddod-d8ffe--MszT9RZtTjcM5PwTCBH-export.json\", orient=\"index\", dtype={\"snapshot_datetime\": 'datetime64[ns]'})\n",
    "df3 = pd.read_json(\"./resources/Tasks/tagaddod-d8ffe--MwWeqpG3yuQD7G2wcp8-export.json\", orient=\"index\", dtype={\"snapshot_datetime\": 'datetime64[ns]'})\n",
    "df4 = pd.read_json(\"./resources/Tasks/tagaddod-d8ffe--N4SUsENXI1OF1qf8VxT-export.json\", orient=\"index\", dtype={\"snapshot_datetime\": 'datetime64[ns]'})\n",
    "dfi = [df1, df2, df3, df4]"
   ]
  },
  {
   "cell_type": "code",
   "execution_count": 68,
   "id": "c4415daa-b6b2-4049-899f-884c11beae80",
   "metadata": {},
   "outputs": [],
   "source": [
    "# this step is to fill collector_id null values with the collector_id of this collector\n",
    "for d in dfi:\n",
    "    d.fillna(value=(d[d[\"collector_id\"].notna()][\"collector_id\"][0]), inplace=True)\n",
    "    # after filling collector_id null, we can convert float64 into int64\n",
    "    d[\"collector_id\"] = d[\"collector_id\"].astype(\"int64\")"
   ]
  },
  {
   "cell_type": "code",
   "execution_count": 70,
   "id": "916b5d65-3269-4ed8-ad65-f2a974a66363",
   "metadata": {},
   "outputs": [],
   "source": [
    "for i in df1[df1[\"meta-data\"]!=df1[\"collector_id\"]].index:\n",
    "    for k, v in df1.loc[i][\"meta-data\"].items():\n",
    "        df1.at[i, k]=v  \n",
    "df1.drop(\"meta-data\", axis=1, inplace=True)      # droping meta-data column as it havenot additional information"
   ]
  },
  {
   "cell_type": "code",
   "execution_count": 71,
   "id": "f73c5f6d-c7fb-4ea4-827f-3350ae89538b",
   "metadata": {},
   "outputs": [],
   "source": [
    "# concatenate the 4 files\n",
    "\n",
    "df = pd.concat([df1, df2, df3, df4], axis=0, ignore_index=False)\n",
    "df.index.name=\"idx\"\n",
    "# df.insert(0, 'collector_id', df.pop('collector_id'))        # optional step to make the collector_id column in the first"
   ]
  },
  {
   "cell_type": "code",
   "execution_count": 73,
   "id": "d4a2ddd4-e7aa-4141-b7b1-db5f7727eb22",
   "metadata": {},
   "outputs": [],
   "source": [
    "df.drop(index=\"meta-data\", inplace=True)"
   ]
  },
  {
   "cell_type": "code",
   "execution_count": 74,
   "id": "27e3dd9a-466d-46a8-95d0-c92662a06cea",
   "metadata": {},
   "outputs": [],
   "source": [
    "df.to_csv(\"./ETL_pipe.csv\", header=True, index=True)"
   ]
  },
  {
   "cell_type": "code",
   "execution_count": null,
   "id": "ded9d1f6-1daf-4f96-be5e-442fda071952",
   "metadata": {},
   "outputs": [],
   "source": []
  }
 ],
 "metadata": {
  "kernelspec": {
   "display_name": "Python 3 (ipykernel)",
   "language": "python",
   "name": "python3"
  },
  "language_info": {
   "codemirror_mode": {
    "name": "ipython",
    "version": 3
   },
   "file_extension": ".py",
   "mimetype": "text/x-python",
   "name": "python",
   "nbconvert_exporter": "python",
   "pygments_lexer": "ipython3",
   "version": "3.9.7"
  }
 },
 "nbformat": 4,
 "nbformat_minor": 5
}
